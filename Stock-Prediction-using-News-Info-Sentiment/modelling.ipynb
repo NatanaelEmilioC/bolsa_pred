{
 "cells": [
  {
   "cell_type": "code",
   "execution_count": 1,
   "metadata": {},
   "outputs": [
    {
     "name": "stdout",
     "output_type": "stream",
     "text": [
      "STOCK PREDICTION USING RNN LSTM\n"
     ]
    },
    {
     "name": "stderr",
     "output_type": "stream",
     "text": [
      "Using TensorFlow backend.\n",
      "C:\\Users\\natan\\anaconda3\\lib\\site-packages\\tensorflow\\python\\framework\\dtypes.py:516: FutureWarning: Passing (type, 1) or '1type' as a synonym of type is deprecated; in a future version of numpy, it will be understood as (type, (1,)) / '(1,)type'.\n",
      "  _np_qint8 = np.dtype([(\"qint8\", np.int8, 1)])\n",
      "C:\\Users\\natan\\anaconda3\\lib\\site-packages\\tensorflow\\python\\framework\\dtypes.py:517: FutureWarning: Passing (type, 1) or '1type' as a synonym of type is deprecated; in a future version of numpy, it will be understood as (type, (1,)) / '(1,)type'.\n",
      "  _np_quint8 = np.dtype([(\"quint8\", np.uint8, 1)])\n",
      "C:\\Users\\natan\\anaconda3\\lib\\site-packages\\tensorflow\\python\\framework\\dtypes.py:518: FutureWarning: Passing (type, 1) or '1type' as a synonym of type is deprecated; in a future version of numpy, it will be understood as (type, (1,)) / '(1,)type'.\n",
      "  _np_qint16 = np.dtype([(\"qint16\", np.int16, 1)])\n",
      "C:\\Users\\natan\\anaconda3\\lib\\site-packages\\tensorflow\\python\\framework\\dtypes.py:519: FutureWarning: Passing (type, 1) or '1type' as a synonym of type is deprecated; in a future version of numpy, it will be understood as (type, (1,)) / '(1,)type'.\n",
      "  _np_quint16 = np.dtype([(\"quint16\", np.uint16, 1)])\n",
      "C:\\Users\\natan\\anaconda3\\lib\\site-packages\\tensorflow\\python\\framework\\dtypes.py:520: FutureWarning: Passing (type, 1) or '1type' as a synonym of type is deprecated; in a future version of numpy, it will be understood as (type, (1,)) / '(1,)type'.\n",
      "  _np_qint32 = np.dtype([(\"qint32\", np.int32, 1)])\n",
      "C:\\Users\\natan\\anaconda3\\lib\\site-packages\\tensorflow\\python\\framework\\dtypes.py:525: FutureWarning: Passing (type, 1) or '1type' as a synonym of type is deprecated; in a future version of numpy, it will be understood as (type, (1,)) / '(1,)type'.\n",
      "  np_resource = np.dtype([(\"resource\", np.ubyte, 1)])\n",
      "C:\\Users\\natan\\anaconda3\\lib\\site-packages\\tensorboard\\compat\\tensorflow_stub\\dtypes.py:541: FutureWarning: Passing (type, 1) or '1type' as a synonym of type is deprecated; in a future version of numpy, it will be understood as (type, (1,)) / '(1,)type'.\n",
      "  _np_qint8 = np.dtype([(\"qint8\", np.int8, 1)])\n",
      "C:\\Users\\natan\\anaconda3\\lib\\site-packages\\tensorboard\\compat\\tensorflow_stub\\dtypes.py:542: FutureWarning: Passing (type, 1) or '1type' as a synonym of type is deprecated; in a future version of numpy, it will be understood as (type, (1,)) / '(1,)type'.\n",
      "  _np_quint8 = np.dtype([(\"quint8\", np.uint8, 1)])\n",
      "C:\\Users\\natan\\anaconda3\\lib\\site-packages\\tensorboard\\compat\\tensorflow_stub\\dtypes.py:543: FutureWarning: Passing (type, 1) or '1type' as a synonym of type is deprecated; in a future version of numpy, it will be understood as (type, (1,)) / '(1,)type'.\n",
      "  _np_qint16 = np.dtype([(\"qint16\", np.int16, 1)])\n",
      "C:\\Users\\natan\\anaconda3\\lib\\site-packages\\tensorboard\\compat\\tensorflow_stub\\dtypes.py:544: FutureWarning: Passing (type, 1) or '1type' as a synonym of type is deprecated; in a future version of numpy, it will be understood as (type, (1,)) / '(1,)type'.\n",
      "  _np_quint16 = np.dtype([(\"quint16\", np.uint16, 1)])\n",
      "C:\\Users\\natan\\anaconda3\\lib\\site-packages\\tensorboard\\compat\\tensorflow_stub\\dtypes.py:545: FutureWarning: Passing (type, 1) or '1type' as a synonym of type is deprecated; in a future version of numpy, it will be understood as (type, (1,)) / '(1,)type'.\n",
      "  _np_qint32 = np.dtype([(\"qint32\", np.int32, 1)])\n",
      "C:\\Users\\natan\\anaconda3\\lib\\site-packages\\tensorboard\\compat\\tensorflow_stub\\dtypes.py:550: FutureWarning: Passing (type, 1) or '1type' as a synonym of type is deprecated; in a future version of numpy, it will be understood as (type, (1,)) / '(1,)type'.\n",
      "  np_resource = np.dtype([(\"resource\", np.ubyte, 1)])\n"
     ]
    }
   ],
   "source": [
    "print('STOCK PREDICTION USING RNN LSTM')\n",
    "import numpy as np\n",
    "import pandas as pd\n",
    "from sklearn import preprocessing\n",
    "\n",
    "from keras.models import Sequential\n",
    "from keras.layers.core import Dense, Activation\n",
    "from keras.layers.recurrent import LSTM\n",
    "from keras.layers import  Dropout\n",
    "from keras.models import model_from_json\n",
    "from keras.models import load_model\n",
    "from keras import regularizers\n",
    "\n",
    "import matplotlib.pyplot as plt\n",
    "import matplotlib.ticker as mtick\n",
    "fmt = '$%.0f'\n",
    "tick = mtick.FormatStrFormatter(fmt)\n",
    "\n",
    "%matplotlib inline"
   ]
  },
  {
   "cell_type": "code",
   "execution_count": 2,
   "metadata": {},
   "outputs": [],
   "source": [
    "# Plotting the data"
   ]
  },
  {
   "cell_type": "code",
   "execution_count": 3,
   "metadata": {},
   "outputs": [
    {
     "data": {
      "image/png": "[encoded data removed]",
      "text/plain": [
       "<Figure size 432x288 with 1 Axes>"
      ]
     },
     "metadata": {
      "needs_background": "light"
     },
     "output_type": "display_data"
    },
    {
     "data": {
      "text/plain": [
       "<Figure size 432x288 with 0 Axes>"
      ]
     },
     "metadata": {},
     "output_type": "display_data"
    }
   ],
   "source": [
    "data_csv = pd.read_csv('Dados/PETR4_Teste.csv')\n",
    "\n",
    "data_csv[['Close']].plot()\n",
    "plt.show()\n",
    "plt.clf()"
   ]
  },
  {
   "cell_type": "markdown",
   "metadata": {},
   "source": [
    "### Calculating the length of data to use"
   ]
  },
  {
   "cell_type": "code",
   "execution_count": 4,
   "metadata": {},
   "outputs": [
    {
     "name": "stdout",
     "output_type": "stream",
     "text": [
      "total_data: 1480\n"
     ]
    }
   ],
   "source": [
    "percentage_of_data = 1.0\n",
    "data_to_use = int(percentage_of_data*(len(data_csv)-1))\n",
    "\n",
    "# 80% of data will be of training\n",
    "train_end = int(data_to_use*0.8)\n",
    "\n",
    "total_data = len(data_csv)\n",
    "print(\"total_data:\", total_data)"
   ]
  },
  {
   "cell_type": "markdown",
   "metadata": {},
   "source": [
    "### Arranging the data"
   ]
  },
  {
   "cell_type": "code",
   "execution_count": 5,
   "metadata": {},
   "outputs": [
    {
     "name": "stdout",
     "output_type": "stream",
     "text": [
      "yt head (close) :\n",
      "1    20.40\n",
      "2    20.43\n",
      "3    20.08\n",
      "4    19.50\n",
      "5    19.68\n",
      "Name: Close, dtype: float64\n"
     ]
    }
   ],
   "source": [
    "start = total_data - data_to_use\n",
    "\n",
    "# Currently doing prediction only for 1 step ahead\n",
    "steps_to_predict = 1\n",
    "\n",
    "#close, sentiment, open, high, low, volume\n",
    "# Order -> 8,1,2,3,4,5,6,7,9\n",
    "yt = data_csv.iloc[start:total_data,4] #close\n",
    "yt1 = data_csv.iloc[start:total_data,6] #sentiment\n",
    "yt5 = data_csv.iloc[start:total_data,1] #open\n",
    "yt6 = data_csv.iloc[start:total_data,2] #high\n",
    "yt7 = data_csv.iloc[start:total_data,3] #low\n",
    "vt = data_csv.iloc[start:total_data,5] #volume\n",
    "\n",
    "print(\"yt head (close) :\")\n",
    "print(yt.head())"
   ]
  },
  {
   "cell_type": "markdown",
   "metadata": {},
   "source": [
    "### Shifting the data by 1"
   ]
  },
  {
   "cell_type": "code",
   "execution_count": 6,
   "metadata": {},
   "outputs": [
    {
     "name": "stdout",
     "output_type": "stream",
     "text": [
      "       yt    yt_       yt1      yt1_        vt    yt5    yt6    yt7\n",
      "1   20.40  20.43  0.000000  0.000000  30552600  19.81  20.40  19.70\n",
      "2   20.43  20.08  0.000000  0.000000  36141000  20.33  20.62  20.17\n",
      "3   20.08  19.50  0.000000  0.000000  28069600  20.48  20.67  19.95\n",
      "4   19.50  19.68  0.000000  0.000000  29091300  20.11  20.23  19.46\n",
      "5   19.68  19.83  0.000000 -0.932171  24361100  19.64  19.87  19.46\n",
      "6   19.83  19.88 -0.932171 -0.816656  17526200  19.77  20.05  19.54\n",
      "7   19.88  19.72 -0.816656  0.000000  18223600  19.85  20.04  19.70\n",
      "8   19.72  19.82  0.000000  0.000000  28302400  20.01  20.24  19.69\n",
      "9   19.82  19.84  0.000000  0.000000  29633900  20.01  20.24  19.69\n",
      "10  19.84  19.71  0.000000  0.000000  16787800  19.89  19.89  19.60\n"
     ]
    }
   ],
   "source": [
    "#shift next day close and next day compund\n",
    "yt_ = yt.shift(-1) #shifted close\n",
    "yt1_ = yt1.shift(-1) #shifted compund\n",
    "\n",
    "#taking only: close, next_close, compund, next_compund, volume, open, high, low\n",
    "data = pd.concat([yt, yt_, yt1, yt1_, vt, yt5, yt6, yt7], axis=1)\n",
    "data.columns = ['yt', 'yt_', 'yt1', 'yt1_','vt', 'yt5', 'yt6', 'yt7']\n",
    "\n",
    "data = data.dropna()\n",
    "     \n",
    "print(data[:10])"
   ]
  },
  {
   "cell_type": "markdown",
   "metadata": {},
   "source": [
    "### Separating data into x and y\n",
    "**Approach:** Training the machine using ***compund, close price, and next_compund*** to predict ***next_close price***."
   ]
  },
  {
   "cell_type": "code",
   "execution_count": 7,
   "metadata": {},
   "outputs": [],
   "source": [
    "# target variable - closed price\n",
    "# after shifting\n",
    "y = data['yt_'] #next_close\n",
    "\n",
    "# close, compund, next_compund, volume, open, high, low   \n",
    "cols = ['yt', 'yt1', 'yt1_', 'vt', 'yt5', 'yt6', 'yt7']\n",
    "x = data[cols]"
   ]
  },
  {
   "cell_type": "markdown",
   "metadata": {},
   "source": [
    "### Preprocessing"
   ]
  },
  {
   "cell_type": "code",
   "execution_count": 8,
   "metadata": {},
   "outputs": [],
   "source": [
    "scaler_x = preprocessing.MinMaxScaler (feature_range=(-1, 1))\n",
    "x = np.array(x).reshape((len(x) ,len(cols)))\n",
    "x = scaler_x.fit_transform(x)\n",
    "\n",
    "scaler_y = preprocessing.MinMaxScaler (feature_range=(-1, 1))\n",
    "y = np.array (y).reshape ((len( y), 1))\n",
    "y = scaler_y.fit_transform (y)"
   ]
  },
  {
   "cell_type": "markdown",
   "metadata": {},
   "source": [
    "### Train Test Split"
   ]
  },
  {
   "cell_type": "code",
   "execution_count": 9,
   "metadata": {},
   "outputs": [],
   "source": [
    "X_train = x[0 : train_end,]\n",
    "X_test = x[train_end+1 : len(x),]    \n",
    "y_train = y[0 : train_end] \n",
    "y_test = y[train_end+1 : len(y)]  \n",
    "\n",
    "X_train = X_train.reshape (X_train. shape + (1,)) \n",
    "X_test = X_test.reshape(X_test.shape + (1,))"
   ]
  },
  {
   "cell_type": "markdown",
   "metadata": {},
   "source": [
    "### RNN LSTM Model"
   ]
  },
  {
   "cell_type": "code",
   "execution_count": null,
   "metadata": {},
   "outputs": [
    {
     "name": "stderr",
     "output_type": "stream",
     "text": [
      "C:\\Users\\natan\\anaconda3\\lib\\site-packages\\ipykernel_launcher.py:10: UserWarning: Update your `LSTM` call to the Keras 2 API: `LSTM(25, return_sequences=True, activation=\"tanh\", input_shape=(7, 1), recurrent_activation=\"hard_sigmoid\")`\n",
      "  # Remove the CWD from sys.path while we load stuff.\n",
      "C:\\Users\\natan\\anaconda3\\lib\\site-packages\\ipykernel_launcher.py:17: UserWarning: Update your `Dense` call to the Keras 2 API: `Dense(activity_regularizer=<keras.reg..., activation=\"linear\", units=1)`\n"
     ]
    },
    {
     "name": "stdout",
     "output_type": "stream",
     "text": [
      "Model: \"sequential_1\"\n",
      "_________________________________________________________________\n",
      "Layer (type)                 Output Shape              Param #   \n",
      "=================================================================\n",
      "lstm_1 (LSTM)                (None, 7, 25)             2700      \n",
      "_________________________________________________________________\n",
      "dropout_1 (Dropout)          (None, 7, 25)             0         \n",
      "_________________________________________________________________\n",
      "lstm_2 (LSTM)                (None, 7, 25)             5100      \n",
      "_________________________________________________________________\n",
      "dropout_2 (Dropout)          (None, 7, 25)             0         \n",
      "_________________________________________________________________\n",
      "lstm_3 (LSTM)                (None, 25)                5100      \n",
      "_________________________________________________________________\n",
      "dropout_3 (Dropout)          (None, 25)                0         \n",
      "_________________________________________________________________\n",
      "dense_1 (Dense)              (None, 1)                 26        \n",
      "_________________________________________________________________\n",
      "activation_1 (Activation)    (None, 1)                 0         \n",
      "=================================================================\n",
      "Total params: 12,926\n",
      "Trainable params: 12,926\n",
      "Non-trainable params: 0\n",
      "_________________________________________________________________\n",
      "None\n",
      "WARNING:tensorflow:From C:\\Users\\natan\\anaconda3\\lib\\site-packages\\tensorflow\\python\\ops\\math_grad.py:1250: add_dispatch_support.<locals>.wrapper (from tensorflow.python.ops.array_ops) is deprecated and will be removed in a future version.\n",
      "Instructions for updating:\n",
      "Use tf.where in 2.0, which has the same broadcast rule as np.where\n",
      "WARNING:tensorflow:From C:\\Users\\natan\\anaconda3\\lib\\site-packages\\keras\\backend\\tensorflow_backend.py:422: The name tf.global_variables is deprecated. Please use tf.compat.v1.global_variables instead.\n",
      "\n",
      "Train on 946 samples, validate on 237 samples\n",
      "Epoch 1/100\n",
      "946/946 [==============================] - 2s 2ms/step - loss: 0.0935 - val_loss: 0.0257\n",
      "Epoch 2/100\n",
      "946/946 [==============================] - 0s 375us/step - loss: 0.0266 - val_loss: 0.0392\n",
      "Epoch 3/100\n",
      "946/946 [==============================] - 0s 435us/step - loss: 0.0262 - val_loss: 0.0330\n",
      "Epoch 4/100\n",
      "946/946 [==============================] - 0s 444us/step - loss: 0.0254 - val_loss: 0.0392\n",
      "Epoch 5/100\n",
      "946/946 [==============================] - 0s 439us/step - loss: 0.0252 - val_loss: 0.0419\n",
      "Epoch 6/100\n",
      "946/946 [==============================] - 0s 407us/step - loss: 0.0246 - val_loss: 0.0304\n",
      "Epoch 7/100\n",
      "946/946 [==============================] - 0s 377us/step - loss: 0.0248 - val_loss: 0.0336\n",
      "Epoch 8/100\n",
      "946/946 [==============================] - 0s 391us/step - loss: 0.0231 - val_loss: 0.0275\n",
      "Epoch 9/100\n",
      "946/946 [==============================] - 0s 380us/step - loss: 0.0226 - val_loss: 0.0442\n",
      "Epoch 10/100\n",
      "946/946 [==============================] - 0s 413us/step - loss: 0.0232 - val_loss: 0.0343\n",
      "Epoch 11/100\n",
      "946/946 [==============================] - 0s 384us/step - loss: 0.0219 - val_loss: 0.0373\n",
      "Epoch 12/100\n",
      "946/946 [==============================] - 0s 397us/step - loss: 0.0206 - val_loss: 0.0266\n",
      "Epoch 13/100\n",
      "946/946 [==============================] - 0s 393us/step - loss: 0.0207 - val_loss: 0.0397\n",
      "Epoch 14/100\n",
      "946/946 [==============================] - 0s 403us/step - loss: 0.0203 - val_loss: 0.0279\n",
      "Epoch 15/100\n",
      "946/946 [==============================] - 0s 406us/step - loss: 0.0183 - val_loss: 0.0255\n",
      "Epoch 16/100\n",
      "946/946 [==============================] - 0s 472us/step - loss: 0.0173 - val_loss: 0.0204\n",
      "Epoch 17/100\n",
      "946/946 [==============================] - 0s 440us/step - loss: 0.0178 - val_loss: 0.0236\n",
      "Epoch 18/100\n",
      "946/946 [==============================] - 0s 418us/step - loss: 0.0155 - val_loss: 0.0310\n",
      "Epoch 19/100\n",
      "946/946 [==============================] - 0s 392us/step - loss: 0.0157 - val_loss: 0.0166\n",
      "Epoch 20/100\n",
      "946/946 [==============================] - 0s 381us/step - loss: 0.0144 - val_loss: 0.0149\n",
      "Epoch 21/100\n",
      "946/946 [==============================] - 0s 401us/step - loss: 0.0135 - val_loss: 0.0174\n",
      "Epoch 22/100\n",
      "946/946 [==============================] - 0s 389us/step - loss: 0.0123 - val_loss: 0.0179\n",
      "Epoch 23/100\n",
      "946/946 [==============================] - 0s 392us/step - loss: 0.0113 - val_loss: 0.0103\n",
      "Epoch 24/100\n",
      "946/946 [==============================] - 0s 458us/step - loss: 0.0108 - val_loss: 0.0084\n",
      "Epoch 25/100\n",
      "946/946 [==============================] - 0s 479us/step - loss: 0.0097 - val_loss: 0.0081\n",
      "Epoch 26/100\n",
      "946/946 [==============================] - 0s 442us/step - loss: 0.0095 - val_loss: 0.0134\n",
      "Epoch 27/100\n",
      "946/946 [==============================] - 0s 443us/step - loss: 0.0097 - val_loss: 0.0053\n",
      "Epoch 28/100\n",
      "946/946 [==============================] - 0s 446us/step - loss: 0.0074 - val_loss: 0.0067\n",
      "Epoch 29/100\n",
      "946/946 [==============================] - 0s 428us/step - loss: 0.0074 - val_loss: 0.0167\n",
      "Epoch 30/100\n",
      "946/946 [==============================] - 0s 424us/step - loss: 0.0080 - val_loss: 0.0125\n",
      "Epoch 31/100\n",
      "946/946 [==============================] - 0s 386us/step - loss: 0.0078 - val_loss: 0.0038\n",
      "Epoch 32/100\n",
      "946/946 [==============================] - 0s 435us/step - loss: 0.0076 - val_loss: 0.0044\n",
      "Epoch 33/100\n",
      "946/946 [==============================] - 0s 462us/step - loss: 0.0067 - val_loss: 0.0047\n",
      "Epoch 34/100\n",
      "946/946 [==============================] - 0s 436us/step - loss: 0.0064 - val_loss: 0.0113\n",
      "Epoch 35/100\n",
      "946/946 [==============================] - 0s 427us/step - loss: 0.0071 - val_loss: 0.0058\n",
      "Epoch 36/100\n",
      "946/946 [==============================] - 0s 438us/step - loss: 0.0066 - val_loss: 0.0039\n",
      "Epoch 37/100\n",
      "946/946 [==============================] - 0s 404us/step - loss: 0.0062 - val_loss: 0.0030\n",
      "Epoch 38/100\n",
      "946/946 [==============================] - 0s 421us/step - loss: 0.0064 - val_loss: 0.0052\n",
      "Epoch 39/100\n",
      "946/946 [==============================] - 0s 425us/step - loss: 0.0065 - val_loss: 0.0064\n",
      "Epoch 40/100\n",
      "946/946 [==============================] - 0s 425us/step - loss: 0.0058 - val_loss: 0.0058\n",
      "Epoch 41/100\n",
      "946/946 [==============================] - 0s 470us/step - loss: 0.0058 - val_loss: 0.0052\n",
      "Epoch 42/100\n",
      "946/946 [==============================] - 0s 428us/step - loss: 0.0061 - val_loss: 0.0044\n",
      "Epoch 43/100\n",
      "946/946 [==============================] - 0s 396us/step - loss: 0.0060 - val_loss: 0.0036\n",
      "Epoch 44/100\n",
      "800/946 [========================>.....] - ETA: 0s - loss: 0.0058"
     ]
    }
   ],
   "source": [
    "batch_size = 32\n",
    "nb_epoch = 100\n",
    "neurons = 25\n",
    "dropout = 0.1\n",
    "\n",
    "seed = 2016\n",
    "np.random.seed(seed)\n",
    "\n",
    "model = Sequential ()\n",
    "model.add(LSTM(neurons, return_sequences=True, activation='tanh', inner_activation='hard_sigmoid', input_shape=(len(cols), 1)))\n",
    "model.add(Dropout(dropout))\n",
    "model.add(LSTM(neurons, return_sequences=True,  activation='tanh'))\n",
    "model.add(Dropout(dropout))\n",
    "model.add(LSTM(neurons, activation='tanh'))\n",
    "model.add(Dropout(dropout))\n",
    "\n",
    "model.add(Dense(activity_regularizer=regularizers.l1(0.00001), output_dim=1, activation='linear'))\n",
    "model.add(Activation('tanh'))\n",
    "\n",
    "print(model.summary())\n",
    "\n",
    "model.compile(loss='mean_squared_error' , optimizer='RMSprop')\n",
    "model.fit(X_train, y_train, batch_size=batch_size, epochs=nb_epoch, verbose=1, validation_split=0.2)\n"
   ]
  },
  {
   "cell_type": "markdown",
   "metadata": {},
   "source": [
    "### Score Calculation"
   ]
  },
  {
   "cell_type": "code",
   "execution_count": null,
   "metadata": {},
   "outputs": [],
   "source": [
    "score_train = model.evaluate(X_train, y_train, batch_size =1)\n",
    "score_test = model.evaluate(X_test, y_test, batch_size =1)\n",
    "print(\"in train MSE = \", round( score_train ,4)) \n",
    "print(\"in test MSE = \", score_test )"
   ]
  },
  {
   "cell_type": "markdown",
   "metadata": {},
   "source": [
    "### Saving model"
   ]
  },
  {
   "cell_type": "code",
   "execution_count": null,
   "metadata": {},
   "outputs": [],
   "source": [
    "model_json = model.to_json()\n",
    "with open(\"model_rms100e_new.json\", \"w\") as json_file:\n",
    "    json_file.write(model_json)\n",
    "# serialize weights to HDF5\n",
    "model.save_weights(\"model_rms100e_new.h5\")\n",
    "print(\"Saved model to disk\")"
   ]
  },
  {
   "cell_type": "markdown",
   "metadata": {},
   "source": [
    "### Predicting on unseen data"
   ]
  },
  {
   "cell_type": "code",
   "execution_count": null,
   "metadata": {},
   "outputs": [],
   "source": [
    "pred = model.predict(X_test) \n",
    "pred = scaler_y.inverse_transform(np.array(pred).reshape((len(pred), 1)))\n",
    "\n",
    "prediction_data = pred[-1]     \n",
    "\n",
    "print (\"Inputs: {}\".format(model.input_shape))\n",
    "print (\"Outputs: {}\".format(model.output_shape))\n",
    "print (\"Actual input: {}\".format(X_test.shape))\n",
    "print (\"Actual output: {}\".format(y_test.shape))\n",
    "\n",
    "print (\"prediction data:\")\n",
    "print (prediction_data)\n",
    "\n",
    "print (\"actual data\")\n",
    "X_test = scaler_x.inverse_transform(np.array(X_test).reshape((len(X_test), len(cols))))\n",
    "print (X_test)\n",
    "\n",
    "#########################################################################\n",
    "'''Plotting'''\n",
    "plt.plot(pred, label=\"predictions\")\n",
    "\n",
    "y_test = scaler_y.inverse_transform(np.array(y_test).reshape((len( y_test), 1)))\n",
    "plt.plot([row[0] for row in y_test], label=\"actual\")\n",
    "\n",
    "plt.legend(loc='upper center', bbox_to_anchor=(0.5, -0.05), fancybox=True, shadow=True, ncol=2)\n",
    "\n",
    "ax = plt.axes()\n",
    "ax.yaxis.set_major_formatter(tick)\n",
    "plt.show()\n",
    "plt.clf()\n"
   ]
  },
  {
   "cell_type": "code",
   "execution_count": null,
   "metadata": {},
   "outputs": [],
   "source": []
  },
  {
   "cell_type": "code",
   "execution_count": null,
   "metadata": {},
   "outputs": [],
   "source": []
  },
  {
   "cell_type": "code",
   "execution_count": null,
   "metadata": {},
   "outputs": [],
   "source": []
  },
  {
   "cell_type": "code",
   "execution_count": null,
   "metadata": {},
   "outputs": [],
   "source": []
  }
 ],
 "metadata": {
  "kernelspec": {
   "display_name": "Python 3",
   "language": "python",
   "name": "python3"
  },
  "language_info": {
   "codemirror_mode": {
    "name": "ipython",
    "version": 3
   },
   "file_extension": ".py",
   "mimetype": "text/x-python",
   "name": "python",
   "nbconvert_exporter": "python",
   "pygments_lexer": "ipython3",
   "version": "3.7.6"
  }
 },
 "nbformat": 4,
 "nbformat_minor": 4
}
