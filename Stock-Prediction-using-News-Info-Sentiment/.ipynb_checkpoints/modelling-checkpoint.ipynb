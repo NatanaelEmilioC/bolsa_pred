{
 "cells": [
  {
   "cell_type": "code",
   "execution_count": 117,
   "metadata": {},
   "outputs": [
    {
     "name": "stdout",
     "output_type": "stream",
     "text": [
      "STOCK PREDICTION USING RNN LSTM\n"
     ]
    }
   ],
   "source": [
    "print('STOCK PREDICTION USING RNN LSTM')\n",
    "import numpy as np\n",
    "import pandas as pd\n",
    "from sklearn import preprocessing\n",
    "\n",
    "from keras.models import Sequential\n",
    "from keras.layers.core import Dense, Activation\n",
    "from keras.layers.recurrent import LSTM\n",
    "from keras.layers import  Dropout\n",
    "from keras.models import model_from_json\n",
    "from keras.models import load_model\n",
    "from keras import regularizers\n",
    "\n",
    "import matplotlib.pyplot as plt\n",
    "import matplotlib.ticker as mtick\n",
    "fmt = '$%.0f'\n",
    "tick = mtick.FormatStrFormatter(fmt)\n",
    "\n",
    "%matplotlib inline"
   ]
  },
  {
   "cell_type": "code",
   "execution_count": 118,
   "metadata": {},
   "outputs": [],
   "source": [
    "# Plotting the data"
   ]
  },
  {
   "cell_type": "code",
   "execution_count": 119,
   "metadata": {},
   "outputs": [
    {
     "data": {
      "image/png": "[encoded data removed]",
      "text/plain": [
       "<Figure size 432x288 with 1 Axes>"
      ]
     },
     "metadata": {
      "needs_background": "light"
     },
     "output_type": "display_data"
    },
    {
     "data": {
      "text/plain": [
       "<Figure size 432x288 with 0 Axes>"
      ]
     },
     "metadata": {},
     "output_type": "display_data"
    }
   ],
   "source": [
    "data_csv = pd.read_csv('Dados/PETR4_Teste.csv')\n",
    "\n",
    "data_csv[['Close']].plot()\n",
    "plt.show()\n",
    "plt.clf()"
   ]
  },
  {
   "cell_type": "markdown",
   "metadata": {},
   "source": [
    "### Calculating the length of data to use"
   ]
  },
  {
   "cell_type": "code",
   "execution_count": 120,
   "metadata": {},
   "outputs": [
    {
     "name": "stdout",
     "output_type": "stream",
     "text": [
      "total_data: 1812\n"
     ]
    }
   ],
   "source": [
    "percentage_of_data = 1.0\n",
    "data_to_use = int(percentage_of_data*(len(data_csv)-1))\n",
    "\n",
    "# 80% of data will be of training\n",
    "train_end = int(data_to_use*0.8)\n",
    "\n",
    "total_data = len(data_csv)\n",
    "print(\"total_data:\", total_data)"
   ]
  },
  {
   "cell_type": "markdown",
   "metadata": {},
   "source": [
    "### Arranging the data"
   ]
  },
  {
   "cell_type": "code",
   "execution_count": 121,
   "metadata": {},
   "outputs": [
    {
     "name": "stdout",
     "output_type": "stream",
     "text": [
      "yt head (close) :\n",
      "1    20.40\n",
      "2    20.43\n",
      "3    20.08\n",
      "4    19.50\n",
      "5    19.68\n",
      "Name: Close, dtype: float64\n"
     ]
    }
   ],
   "source": [
    "start = total_data - data_to_use\n",
    "\n",
    "# Currently doing prediction only for 1 step ahead\n",
    "steps_to_predict = 1\n",
    "\n",
    "#close, sentiment, open, high, low, volume\n",
    "# Order -> 8,1,2,3,4,5,6,7,9\n",
    "yt = data_csv.iloc[start:total_data,4] #close\n",
    "yt1 = data_csv.iloc[start:total_data,6] #sentiment\n",
    "yt5 = data_csv.iloc[start:total_data,1] #open\n",
    "yt6 = data_csv.iloc[start:total_data,2] #high\n",
    "yt7 = data_csv.iloc[start:total_data,3] #low\n",
    "vt = data_csv.iloc[start:total_data,5] #volume\n",
    "\n",
    "print(\"yt head (close) :\")\n",
    "print(yt.head())"
   ]
  },
  {
   "cell_type": "markdown",
   "metadata": {},
   "source": [
    "### Shifting the data by 1"
   ]
  },
  {
   "cell_type": "code",
   "execution_count": 122,
   "metadata": {},
   "outputs": [
    {
     "name": "stdout",
     "output_type": "stream",
     "text": [
      "       yt    yt_  yt1  yt1_        vt    yt5    yt6    yt7\n",
      "1   20.40  20.43  0.6   0.6  30552600  19.81  20.40  19.70\n",
      "2   20.43  20.08  0.6   0.6  36141000  20.33  20.62  20.17\n",
      "3   20.08  19.50  0.6   0.6  28069600  20.48  20.67  19.95\n",
      "4   19.50  19.68  0.6   0.6  29091300  20.11  20.23  19.46\n",
      "5   19.68  19.83  0.6   0.6  24361100  19.64  19.87  19.46\n",
      "6   19.83  19.88  0.6   0.6  17526200  19.77  20.05  19.54\n",
      "7   19.88  19.72  0.6   0.6  18223600  19.85  20.04  19.70\n",
      "8   19.72  19.82  0.6   0.6  28302400  20.01  20.24  19.69\n",
      "9   19.82  19.84  0.6   0.6  29633900  20.01  20.24  19.69\n",
      "10  19.84  19.71  0.6   0.6  16787800  19.89  19.89  19.60\n"
     ]
    }
   ],
   "source": [
    "#shift next day close and next day compund\n",
    "yt_ = yt.shift(-1) #shifted close\n",
    "yt1_ = yt1.shift(-1) #shifted compund\n",
    "\n",
    "#taking only: close, next_close, compund, next_compund, volume, open, high, low\n",
    "data = pd.concat([yt, yt_, yt1, yt1_, vt, yt5, yt6, yt7], axis=1)\n",
    "data.columns = ['yt', 'yt_', 'yt1', 'yt1_','vt', 'yt5', 'yt6', 'yt7']\n",
    "\n",
    "data = data.dropna()\n",
    "     \n",
    "print(data[:10])"
   ]
  },
  {
   "cell_type": "markdown",
   "metadata": {},
   "source": [
    "### Separating data into x and y\n",
    "**Approach:** Training the machine using ***compund, close price, and next_compund*** to predict ***next_close price***."
   ]
  },
  {
   "cell_type": "code",
   "execution_count": 123,
   "metadata": {},
   "outputs": [],
   "source": [
    "# target variable - closed price\n",
    "# after shifting\n",
    "y = data['yt_'] #next_close\n",
    "\n",
    "# close, compund, next_compund, volume, open, high, low   \n",
    "cols = ['yt', 'yt1', 'yt1_', 'vt', 'yt5', 'yt6', 'yt7']\n",
    "x = data[cols]"
   ]
  },
  {
   "cell_type": "markdown",
   "metadata": {},
   "source": [
    "### Preprocessing"
   ]
  },
  {
   "cell_type": "code",
   "execution_count": 124,
   "metadata": {},
   "outputs": [],
   "source": [
    "scaler_x = preprocessing.MinMaxScaler (feature_range=(-1, 1))\n",
    "x = np.array(x).reshape((len(x) ,len(cols)))\n",
    "x = scaler_x.fit_transform(x)\n",
    "\n",
    "scaler_y = preprocessing.MinMaxScaler (feature_range=(-1, 1))\n",
    "y = np.array (y).reshape ((len( y), 1))\n",
    "y = scaler_y.fit_transform (y)"
   ]
  },
  {
   "cell_type": "markdown",
   "metadata": {},
   "source": [
    "### Train Test Split"
   ]
  },
  {
   "cell_type": "code",
   "execution_count": 125,
   "metadata": {},
   "outputs": [],
   "source": [
    "X_train = x[0 : train_end,]\n",
    "X_test = x[train_end+1 : len(x),]    \n",
    "y_train = y[0 : train_end] \n",
    "y_test = y[train_end+1 : len(y)]  \n",
    "\n",
    "X_train = X_train.reshape (X_train. shape + (1,)) \n",
    "X_test = X_test.reshape(X_test.shape + (1,))"
   ]
  },
  {
   "cell_type": "markdown",
   "metadata": {},
   "source": [
    "### RNN LSTM Model"
   ]
  },
  {
   "cell_type": "code",
   "execution_count": 126,
   "metadata": {},
   "outputs": [
    {
     "name": "stderr",
     "output_type": "stream",
     "text": [
      "C:\\Users\\natan\\anaconda3\\lib\\site-packages\\ipykernel_launcher.py:10: UserWarning: Update your `LSTM` call to the Keras 2 API: `LSTM(25, return_sequences=True, activation=\"tanh\", input_shape=(7, 1), recurrent_activation=\"hard_sigmoid\")`\n",
      "  # Remove the CWD from sys.path while we load stuff.\n",
      "C:\\Users\\natan\\anaconda3\\lib\\site-packages\\ipykernel_launcher.py:17: UserWarning: Update your `Dense` call to the Keras 2 API: `Dense(activity_regularizer=<keras.reg..., activation=\"linear\", units=1)`\n"
     ]
    },
    {
     "name": "stdout",
     "output_type": "stream",
     "text": [
      "Model: \"sequential_10\"\n",
      "_________________________________________________________________\n",
      "Layer (type)                 Output Shape              Param #   \n",
      "=================================================================\n",
      "lstm_28 (LSTM)               (None, 7, 25)             2700      \n",
      "_________________________________________________________________\n",
      "dropout_28 (Dropout)         (None, 7, 25)             0         \n",
      "_________________________________________________________________\n",
      "lstm_29 (LSTM)               (None, 7, 25)             5100      \n",
      "_________________________________________________________________\n",
      "dropout_29 (Dropout)         (None, 7, 25)             0         \n",
      "_________________________________________________________________\n",
      "lstm_30 (LSTM)               (None, 25)                5100      \n",
      "_________________________________________________________________\n",
      "dropout_30 (Dropout)         (None, 25)                0         \n",
      "_________________________________________________________________\n",
      "dense_10 (Dense)             (None, 1)                 26        \n",
      "_________________________________________________________________\n",
      "activation_10 (Activation)   (None, 1)                 0         \n",
      "=================================================================\n",
      "Total params: 12,926\n",
      "Trainable params: 12,926\n",
      "Non-trainable params: 0\n",
      "_________________________________________________________________\n",
      "None\n",
      "Train on 1158 samples, validate on 290 samples\n",
      "Epoch 1/100\n",
      "1158/1158 [==============================] - 3s 2ms/step - loss: 0.1050 - val_loss: 0.2837\n",
      "Epoch 2/100\n",
      "1158/1158 [==============================] - 0s 401us/step - loss: 0.0891 - val_loss: 0.2293\n",
      "Epoch 3/100\n",
      "1158/1158 [==============================] - 0s 424us/step - loss: 0.0686 - val_loss: 0.1390\n",
      "Epoch 4/100\n",
      "1158/1158 [==============================] - 1s 461us/step - loss: 0.0265 - val_loss: 0.0431\n",
      "Epoch 5/100\n",
      "1158/1158 [==============================] - 0s 431us/step - loss: 0.0078 - val_loss: 0.0251\n",
      "Epoch 6/100\n",
      "1158/1158 [==============================] - 0s 403us/step - loss: 0.0065 - val_loss: 0.0239\n",
      "Epoch 7/100\n",
      "1158/1158 [==============================] - 0s 404us/step - loss: 0.0056 - val_loss: 0.0203\n",
      "Epoch 8/100\n",
      "1158/1158 [==============================] - 0s 431us/step - loss: 0.0052 - val_loss: 0.0159\n",
      "Epoch 9/100\n",
      "1158/1158 [==============================] - 0s 404us/step - loss: 0.0042 - val_loss: 0.0126\n",
      "Epoch 10/100\n",
      "1158/1158 [==============================] - 0s 424us/step - loss: 0.0041 - val_loss: 0.0115\n",
      "Epoch 11/100\n",
      "1158/1158 [==============================] - 0s 406us/step - loss: 0.0042 - val_loss: 0.0111\n",
      "Epoch 12/100\n",
      "1158/1158 [==============================] - 0s 406us/step - loss: 0.0035 - val_loss: 0.0101\n",
      "Epoch 13/100\n",
      "1158/1158 [==============================] - 0s 422us/step - loss: 0.0036 - val_loss: 0.0084\n",
      "Epoch 14/100\n",
      "1158/1158 [==============================] - 1s 456us/step - loss: 0.0035 - val_loss: 0.0107\n",
      "Epoch 15/100\n",
      "1158/1158 [==============================] - 1s 432us/step - loss: 0.0031 - val_loss: 0.0087\n",
      "Epoch 16/100\n",
      "1158/1158 [==============================] - 0s 416us/step - loss: 0.0032 - val_loss: 0.0076\n",
      "Epoch 17/100\n",
      "1158/1158 [==============================] - 0s 401us/step - loss: 0.0030 - val_loss: 0.0072\n",
      "Epoch 18/100\n",
      "1158/1158 [==============================] - 1s 459us/step - loss: 0.0031 - val_loss: 0.0073\n",
      "Epoch 19/100\n",
      "1158/1158 [==============================] - 1s 439us/step - loss: 0.0030 - val_loss: 0.0069\n",
      "Epoch 20/100\n",
      "1158/1158 [==============================] - 1s 439us/step - loss: 0.0031 - val_loss: 0.0071\n",
      "Epoch 21/100\n",
      "1158/1158 [==============================] - 1s 446us/step - loss: 0.0028 - val_loss: 0.0083\n",
      "Epoch 22/100\n",
      "1158/1158 [==============================] - 1s 432us/step - loss: 0.0030 - val_loss: 0.0084\n",
      "Epoch 23/100\n",
      "1158/1158 [==============================] - 0s 419us/step - loss: 0.0029 - val_loss: 0.0076\n",
      "Epoch 24/100\n",
      "1158/1158 [==============================] - 1s 475us/step - loss: 0.0028 - val_loss: 0.0064\n",
      "Epoch 25/100\n",
      "1158/1158 [==============================] - 1s 445us/step - loss: 0.0028 - val_loss: 0.0058\n",
      "Epoch 26/100\n",
      "1158/1158 [==============================] - 0s 408us/step - loss: 0.0027 - val_loss: 0.0061\n",
      "Epoch 27/100\n",
      "1158/1158 [==============================] - 0s 408us/step - loss: 0.0028 - val_loss: 0.0075\n",
      "Epoch 28/100\n",
      "1158/1158 [==============================] - 0s 390us/step - loss: 0.0028 - val_loss: 0.0061\n",
      "Epoch 29/100\n",
      "1158/1158 [==============================] - 0s 429us/step - loss: 0.0027 - val_loss: 0.0057\n",
      "Epoch 30/100\n",
      "1158/1158 [==============================] - 0s 416us/step - loss: 0.0025 - val_loss: 0.0067\n",
      "Epoch 31/100\n",
      "1158/1158 [==============================] - 0s 414us/step - loss: 0.0025 - val_loss: 0.0055\n",
      "Epoch 32/100\n",
      "1158/1158 [==============================] - 0s 416us/step - loss: 0.0028 - val_loss: 0.0058\n",
      "Epoch 33/100\n",
      "1158/1158 [==============================] - 1s 436us/step - loss: 0.0024 - val_loss: 0.0058\n",
      "Epoch 34/100\n",
      "1158/1158 [==============================] - 1s 476us/step - loss: 0.0026 - val_loss: 0.0043\n",
      "Epoch 35/100\n",
      "1158/1158 [==============================] - 1s 444us/step - loss: 0.0026 - val_loss: 0.0062\n",
      "Epoch 36/100\n",
      "1158/1158 [==============================] - 0s 414us/step - loss: 0.0025 - val_loss: 0.0055\n",
      "Epoch 37/100\n",
      "1158/1158 [==============================] - 0s 405us/step - loss: 0.0025 - val_loss: 0.0043\n",
      "Epoch 38/100\n",
      "1158/1158 [==============================] - 0s 396us/step - loss: 0.0026 - val_loss: 0.0053\n",
      "Epoch 39/100\n",
      "1158/1158 [==============================] - 0s 405us/step - loss: 0.0027 - val_loss: 0.0033\n",
      "Epoch 40/100\n",
      "1158/1158 [==============================] - 0s 410us/step - loss: 0.0025 - val_loss: 0.0041\n",
      "Epoch 41/100\n",
      "1158/1158 [==============================] - 0s 405us/step - loss: 0.0024 - val_loss: 0.0046\n",
      "Epoch 42/100\n",
      "1158/1158 [==============================] - 0s 403us/step - loss: 0.0025 - val_loss: 0.0033\n",
      "Epoch 43/100\n",
      "1158/1158 [==============================] - 0s 416us/step - loss: 0.0025 - val_loss: 0.0043\n",
      "Epoch 44/100\n",
      "1158/1158 [==============================] - 1s 446us/step - loss: 0.0021 - val_loss: 0.0043\n",
      "Epoch 45/100\n",
      "1158/1158 [==============================] - 1s 473us/step - loss: 0.0027 - val_loss: 0.0042\n",
      "Epoch 46/100\n",
      "1158/1158 [==============================] - 0s 425us/step - loss: 0.0025 - val_loss: 0.0045\n",
      "Epoch 47/100\n",
      "1158/1158 [==============================] - 1s 432us/step - loss: 0.0023 - val_loss: 0.0050\n",
      "Epoch 48/100\n",
      "1158/1158 [==============================] - 1s 435us/step - loss: 0.0025 - val_loss: 0.0041\n",
      "Epoch 49/100\n",
      "1158/1158 [==============================] - 1s 455us/step - loss: 0.0025 - val_loss: 0.0030\n",
      "Epoch 50/100\n",
      "1158/1158 [==============================] - 1s 515us/step - loss: 0.0023 - val_loss: 0.0037\n",
      "Epoch 51/100\n",
      "1158/1158 [==============================] - 1s 505us/step - loss: 0.0024 - val_loss: 0.0040\n",
      "Epoch 52/100\n",
      "1158/1158 [==============================] - 1s 518us/step - loss: 0.0024 - val_loss: 0.0036\n",
      "Epoch 53/100\n",
      "1158/1158 [==============================] - 1s 477us/step - loss: 0.0024 - val_loss: 0.0042\n",
      "Epoch 54/100\n",
      "1158/1158 [==============================] - 1s 476us/step - loss: 0.0023 - val_loss: 0.0030\n",
      "Epoch 55/100\n",
      "1158/1158 [==============================] - 1s 474us/step - loss: 0.0024 - val_loss: 0.0035\n",
      "Epoch 56/100\n",
      "1158/1158 [==============================] - 0s 407us/step - loss: 0.0023 - val_loss: 0.0040\n",
      "Epoch 57/100\n",
      "1158/1158 [==============================] - 0s 413us/step - loss: 0.0024 - val_loss: 0.0045\n",
      "Epoch 58/100\n",
      "1158/1158 [==============================] - 0s 413us/step - loss: 0.0023 - val_loss: 0.0032\n",
      "Epoch 59/100\n",
      "1158/1158 [==============================] - 0s 408us/step - loss: 0.0025 - val_loss: 0.0045\n",
      "Epoch 60/100\n",
      "1158/1158 [==============================] - 1s 485us/step - loss: 0.0024 - val_loss: 0.0038\n",
      "Epoch 61/100\n",
      "1158/1158 [==============================] - 1s 482us/step - loss: 0.0025 - val_loss: 0.0039\n",
      "Epoch 62/100\n",
      "1158/1158 [==============================] - 0s 417us/step - loss: 0.0023 - val_loss: 0.0032\n",
      "Epoch 63/100\n",
      "1158/1158 [==============================] - 1s 464us/step - loss: 0.0024 - val_loss: 0.0044\n",
      "Epoch 64/100\n",
      "1158/1158 [==============================] - 1s 455us/step - loss: 0.0023 - val_loss: 0.0034\n",
      "Epoch 65/100\n",
      "1158/1158 [==============================] - 0s 415us/step - loss: 0.0022 - val_loss: 0.0041\n",
      "Epoch 66/100\n",
      "1158/1158 [==============================] - 0s 414us/step - loss: 0.0023 - val_loss: 0.0044\n",
      "Epoch 67/100\n",
      "1158/1158 [==============================] - 1s 439us/step - loss: 0.0024 - val_loss: 0.0032\n",
      "Epoch 68/100\n",
      "1158/1158 [==============================] - 0s 415us/step - loss: 0.0024 - val_loss: 0.0037\n",
      "Epoch 69/100\n",
      "1158/1158 [==============================] - 0s 410us/step - loss: 0.0024 - val_loss: 0.0033\n",
      "Epoch 70/100\n",
      "1158/1158 [==============================] - 0s 412us/step - loss: 0.0022 - val_loss: 0.0032\n",
      "Epoch 71/100\n",
      "1158/1158 [==============================] - 0s 431us/step - loss: 0.0023 - val_loss: 0.0030\n",
      "Epoch 72/100\n",
      "1158/1158 [==============================] - 0s 426us/step - loss: 0.0022 - val_loss: 0.0038\n",
      "Epoch 73/100\n",
      "1158/1158 [==============================] - 1s 554us/step - loss: 0.0023 - val_loss: 0.0031\n",
      "Epoch 74/100\n",
      "1158/1158 [==============================] - 1s 537us/step - loss: 0.0024 - val_loss: 0.0028\n",
      "Epoch 75/100\n",
      "1158/1158 [==============================] - 1s 479us/step - loss: 0.0022 - val_loss: 0.0033\n",
      "Epoch 76/100\n",
      "1158/1158 [==============================] - 1s 441us/step - loss: 0.0023 - val_loss: 0.0039\n",
      "Epoch 77/100\n",
      "1158/1158 [==============================] - 1s 435us/step - loss: 0.0023 - val_loss: 0.0049\n",
      "Epoch 78/100\n",
      "1158/1158 [==============================] - 1s 459us/step - loss: 0.0023 - val_loss: 0.0029\n",
      "Epoch 79/100\n",
      "1158/1158 [==============================] - 1s 446us/step - loss: 0.0023 - val_loss: 0.0059\n",
      "Epoch 80/100\n",
      "1158/1158 [==============================] - 1s 505us/step - loss: 0.0023 - val_loss: 0.0028\n",
      "Epoch 81/100\n",
      "1158/1158 [==============================] - 1s 502us/step - loss: 0.0022 - val_loss: 0.0032\n",
      "Epoch 82/100\n",
      "1158/1158 [==============================] - 1s 538us/step - loss: 0.0023 - val_loss: 0.0033\n",
      "Epoch 83/100\n",
      "1158/1158 [==============================] - 1s 518us/step - loss: 0.0022 - val_loss: 0.0057\n",
      "Epoch 84/100\n",
      "1158/1158 [==============================] - 1s 522us/step - loss: 0.0023 - val_loss: 0.0034\n",
      "Epoch 85/100\n",
      "1158/1158 [==============================] - 1s 500us/step - loss: 0.0023 - val_loss: 0.0060\n",
      "Epoch 86/100\n",
      "1158/1158 [==============================] - 1s 452us/step - loss: 0.0022 - val_loss: 0.0061\n",
      "Epoch 87/100\n",
      "1158/1158 [==============================] - 0s 431us/step - loss: 0.0023 - val_loss: 0.0065\n",
      "Epoch 88/100\n",
      "1158/1158 [==============================] - 1s 447us/step - loss: 0.0022 - val_loss: 0.0037\n",
      "Epoch 89/100\n",
      "1158/1158 [==============================] - 1s 507us/step - loss: 0.0021 - val_loss: 0.0039\n",
      "Epoch 90/100\n",
      "1158/1158 [==============================] - 1s 529us/step - loss: 0.0023 - val_loss: 0.0054\n",
      "Epoch 91/100\n",
      "1158/1158 [==============================] - 1s 528us/step - loss: 0.0022 - val_loss: 0.0032\n",
      "Epoch 92/100\n",
      "1158/1158 [==============================] - 1s 481us/step - loss: 0.0022 - val_loss: 0.0031\n",
      "Epoch 93/100\n",
      "1158/1158 [==============================] - 1s 449us/step - loss: 0.0023 - val_loss: 0.0035\n",
      "Epoch 94/100\n",
      "1158/1158 [==============================] - 1s 444us/step - loss: 0.0022 - val_loss: 0.0042\n",
      "Epoch 95/100\n",
      "1158/1158 [==============================] - 1s 444us/step - loss: 0.0022 - val_loss: 0.0059\n",
      "Epoch 96/100\n",
      "1158/1158 [==============================] - 1s 446us/step - loss: 0.0022 - val_loss: 0.0032\n",
      "Epoch 97/100\n",
      "1158/1158 [==============================] - 1s 446us/step - loss: 0.0023 - val_loss: 0.0036\n",
      "Epoch 98/100\n",
      "1158/1158 [==============================] - 1s 460us/step - loss: 0.0021 - val_loss: 0.0075\n",
      "Epoch 99/100\n",
      "1158/1158 [==============================] - 1s 459us/step - loss: 0.0021 - val_loss: 0.0038\n",
      "Epoch 100/100\n",
      "1158/1158 [==============================] - 1s 501us/step - loss: 0.0021 - val_loss: 0.0027\n"
     ]
    },
    {
     "data": {
      "text/plain": [
       "<keras.callbacks.callbacks.History at 0x26a809bad88>"
      ]
     },
     "execution_count": 126,
     "metadata": {},
     "output_type": "execute_result"
    }
   ],
   "source": [
    "batch_size = 32\n",
    "nb_epoch = 100\n",
    "neurons = 25\n",
    "dropout = 0.1\n",
    "\n",
    "seed = 2016\n",
    "np.random.seed(seed)\n",
    "\n",
    "model = Sequential ()\n",
    "model.add(LSTM(neurons, return_sequences=True, activation='tanh', inner_activation='hard_sigmoid', input_shape=(len(cols), 1)))\n",
    "model.add(Dropout(dropout))\n",
    "model.add(LSTM(neurons, return_sequences=True,  activation='tanh'))\n",
    "model.add(Dropout(dropout))\n",
    "model.add(LSTM(neurons, activation='tanh'))\n",
    "model.add(Dropout(dropout))\n",
    "\n",
    "model.add(Dense(activity_regularizer=regularizers.l1(0.00001), output_dim=1, activation='linear'))\n",
    "model.add(Activation('tanh'))\n",
    "\n",
    "print(model.summary())\n",
    "\n",
    "model.compile(loss='mean_squared_error' , optimizer='RMSprop')\n",
    "model.fit(X_train, y_train, batch_size=batch_size, epochs=nb_epoch, verbose=1, validation_split=0.2)\n"
   ]
  },
  {
   "cell_type": "markdown",
   "metadata": {},
   "source": [
    "### Score Calculation"
   ]
  },
  {
   "cell_type": "code",
   "execution_count": 127,
   "metadata": {},
   "outputs": [
    {
     "name": "stdout",
     "output_type": "stream",
     "text": [
      "1448/1448 [==============================] - 4s 3ms/step\n",
      "361/361 [==============================] - 1s 2ms/step\n",
      "in train MSE =  0.0017\n",
      "in test MSE =  0.015761567940271788\n"
     ]
    }
   ],
   "source": [
    "score_train = model.evaluate(X_train, y_train, batch_size =1)\n",
    "score_test = model.evaluate(X_test, y_test, batch_size =1)\n",
    "print(\"in train MSE = \", round( score_train ,4)) \n",
    "print(\"in test MSE = \", score_test )"
   ]
  },
  {
   "cell_type": "markdown",
   "metadata": {},
   "source": [
    "### Saving model"
   ]
  },
  {
   "cell_type": "code",
   "execution_count": 128,
   "metadata": {},
   "outputs": [
    {
     "name": "stdout",
     "output_type": "stream",
     "text": [
      "Saved model to disk\n"
     ]
    }
   ],
   "source": [
    "model_json = model.to_json()\n",
    "with open(\"model_rms100e_new.json\", \"w\") as json_file:\n",
    "    json_file.write(model_json)\n",
    "# serialize weights to HDF5\n",
    "model.save_weights(\"model_rms100e_new.h5\")\n",
    "print(\"Saved model to disk\")"
   ]
  },
  {
   "cell_type": "markdown",
   "metadata": {},
   "source": [
    "### Predicting on unseen data"
   ]
  },
  {
   "cell_type": "code",
   "execution_count": 129,
   "metadata": {},
   "outputs": [
    {
     "name": "stdout",
     "output_type": "stream",
     "text": [
      "Inputs: (None, 7, 1)\n",
      "Outputs: (None, 1)\n",
      "Actual input: (361, 7, 1)\n",
      "Actual output: (361, 1)\n",
      "prediction data:\n",
      "[16.97719]\n",
      "actual data\n",
      "[[24.24  0.49  0.49 ... 25.32 25.32 23.95]\n",
      " [25.1   0.49  0.49 ... 24.24 25.19 23.91]\n",
      " [25.8   0.49  0.49 ... 25.39 26.04 25.17]\n",
      " ...\n",
      " [18.2   0.28  0.28 ... 17.8  18.48 17.53]\n",
      " [18.05  0.28  0.28 ... 17.98 18.42 17.7 ]\n",
      " [17.38  0.28  0.28 ... 17.43 17.62 17.18]]\n"
     ]
    },
    {
     "name": "stderr",
     "output_type": "stream",
     "text": [
      "C:\\Users\\natan\\anaconda3\\lib\\site-packages\\ipykernel_launcher.py:27: MatplotlibDeprecationWarning: Adding an axes using the same arguments as a previous axes currently reuses the earlier instance.  In a future version, a new instance will always be created and returned.  Meanwhile, this warning can be suppressed, and the future behavior ensured, by passing a unique label to each axes instance.\n"
     ]
    },
    {
     "data": {
      "image/png": "[encoded data removed]",
      "text/plain": [
       "<Figure size 432x288 with 1 Axes>"
      ]
     },
     "metadata": {
      "needs_background": "light"
     },
     "output_type": "display_data"
    },
    {
     "data": {
      "text/plain": [
       "<Figure size 432x288 with 0 Axes>"
      ]
     },
     "metadata": {},
     "output_type": "display_data"
    }
   ],
   "source": [
    "pred = model.predict(X_test) \n",
    "pred = scaler_y.inverse_transform(np.array(pred).reshape((len(pred), 1)))\n",
    "\n",
    "prediction_data = pred[-1]     \n",
    "\n",
    "print (\"Inputs: {}\".format(model.input_shape))\n",
    "print (\"Outputs: {}\".format(model.output_shape))\n",
    "print (\"Actual input: {}\".format(X_test.shape))\n",
    "print (\"Actual output: {}\".format(y_test.shape))\n",
    "\n",
    "print (\"prediction data:\")\n",
    "print (prediction_data)\n",
    "\n",
    "print (\"actual data\")\n",
    "X_test = scaler_x.inverse_transform(np.array(X_test).reshape((len(X_test), len(cols))))\n",
    "print (X_test)\n",
    "\n",
    "#########################################################################\n",
    "'''Plotting'''\n",
    "plt.plot(pred, label=\"predictions\")\n",
    "\n",
    "y_test = scaler_y.inverse_transform(np.array(y_test).reshape((len( y_test), 1)))\n",
    "plt.plot([row[0] for row in y_test], label=\"actual\")\n",
    "\n",
    "plt.legend(loc='upper center', bbox_to_anchor=(0.5, -0.05), fancybox=True, shadow=True, ncol=2)\n",
    "\n",
    "ax = plt.axes()\n",
    "ax.yaxis.set_major_formatter(tick)\n",
    "plt.show()\n",
    "plt.clf()\n"
   ]
  },
  {
   "cell_type": "code",
   "execution_count": null,
   "metadata": {},
   "outputs": [],
   "source": []
  },
  {
   "cell_type": "code",
   "execution_count": null,
   "metadata": {},
   "outputs": [],
   "source": []
  },
  {
   "cell_type": "code",
   "execution_count": null,
   "metadata": {},
   "outputs": [],
   "source": []
  },
  {
   "cell_type": "code",
   "execution_count": null,
   "metadata": {},
   "outputs": [],
   "source": []
  }
 ],
 "metadata": {
  "kernelspec": {
   "display_name": "Python 3",
   "language": "python",
   "name": "python3"
  },
  "language_info": {
   "codemirror_mode": {
    "name": "ipython",
    "version": 3
   },
   "file_extension": ".py",
   "mimetype": "text/x-python",
   "name": "python",
   "nbconvert_exporter": "python",
   "pygments_lexer": "ipython3",
   "version": "3.7.6"
  }
 },
 "nbformat": 4,
 "nbformat_minor": 4
}
